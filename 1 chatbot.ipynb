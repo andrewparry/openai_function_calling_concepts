{
 "cells": [
  {
   "cell_type": "code",
   "execution_count": null,
   "metadata": {},
   "outputs": [],
   "source": [
    "import openai\n",
    "import json\n",
    "import os"
   ]
  },
  {
   "cell_type": "code",
   "execution_count": null,
   "metadata": {},
   "outputs": [],
   "source": [
    "# Define the functions\n",
    "def getproductavailabilitydatebyzip(zip, productcode, deliveryservicedays):\n",
    "    # Add your implementation here\n",
    "    pass\n",
    "\n",
    "def getproductinventorybyloc(loc):\n",
    "    # Add your implementation here\n",
    "    pass\n",
    "\n",
    "def getproductprice(zip, customerid, productcode):\n",
    "    # Add your implementation here\n",
    "    pass"
   ]
  },
  {
   "cell_type": "code",
   "execution_count": null,
   "metadata": {},
   "outputs": [],
   "source": [
    "# Map the function names to the functions\n",
    "available_functions = {\n",
    "    \"getproductavailabilitydatebyzip\": getproductavailabilitydatebyzip,\n",
    "    \"getproductinventorybyloc\": getproductinventorybyloc,\n",
    "    \"getproductprice\": getproductprice,\n",
    "}"
   ]
  },
  {
   "cell_type": "code",
   "execution_count": null,
   "metadata": {},
   "outputs": [],
   "source": [
    "def run_conversation():\n",
    "    # Define the system message\n",
    "    system_message = \"You are a helpful Customer Service chatbot answering questions about products, especially delivery times, product availability, and product price.\"\n",
    "\n",
    "    # Define the function descriptions for the API\n",
    "    functions = [\n",
    "        {\n",
    "            \"name\": \"getproductavailabilitydatebyzip\",\n",
    "            \"description\": \"Returns a delivery for a product and zip\",\n",
    "            \"parameters\": {\"zip\": \"string\", \"productcode\": \"string\", \"deliveryservicedays\": \"int\"},\n",
    "        },\n",
    "        {\n",
    "            \"name\": \"getproductinventorybyloc\",\n",
    "            \"description\": \"Returns the loc id, inventory and open orders for the loc if provided, otherwise provide a list of locs\",\n",
    "            \"parameters\": {\"loc\": \"string\"},\n",
    "        },\n",
    "        {\n",
    "            \"name\": \"getproductprice\",\n",
    "            \"description\": \"Returns the price of an item, refined by zip and or customer id if provided\",\n",
    "            \"parameters\": {\"zip\": \"string\", \"customerid\": \"string\", \"productcode\": \"string\"},\n",
    "        },\n",
    "    ]\n",
    "\n",
    "    # Start the conversation with the user's question\n",
    "    user_question = input(\"Ask your question: \")\n",
    "    messages = [{\"role\": \"system\", \"content\": system_message}, {\"role\": \"user\", \"content\": user_question}]\n",
    "\n",
    "    # Call the model\n",
    "    response = openai.ChatCompletion.create(\n",
    "        model=\"gpt-3.5-turbo-0613\",\n",
    "        messages=messages,\n",
    "        functions=functions,\n",
    "        function_call=\"auto\",\n",
    "    )\n",
    "    response_message = response[\"choices\"][0][\"message\"]\n",
    "\n",
    "    # Check if GPT wanted to call a function\n",
    "    if response_message.get(\"function_call\"):\n",
    "        function_name = response_message[\"function_call\"][\"name\"]\n",
    "        fuction_to_call = available_functions[function_name]\n",
    "        function_args = json.loads(response_message[\"function_call\"][\"arguments\"])\n",
    "        function_response = fuction_to_call(**function_args)\n",
    "\n",
    "        # Send the info on the function call and function response to GPT\n",
    "        messages.append(response_message)\n",
    "        messages.append(\n",
    "            {\n",
    "                \"role\": \"function\",\n",
    "                \"name\": function_name,\n",
    "                \"content\": function_response,\n",
    "            }\n",
    "        )\n",
    "        second_response = openai.ChatCompletion.create(\n",
    "            model=\"gpt-3.5-turbo-0613\",\n",
    "            messages=messages,\n",
    "        )\n",
    "        return second_response"
   ]
  },
  {
   "cell_type": "code",
   "execution_count": null,
   "metadata": {},
   "outputs": [],
   "source": [
    "\n",
    "# Run the conversation\n",
    "print(run_conversation())"
   ]
  }
 ],
 "metadata": {
  "language_info": {
   "name": "python"
  },
  "orig_nbformat": 4
 },
 "nbformat": 4,
 "nbformat_minor": 2
}
